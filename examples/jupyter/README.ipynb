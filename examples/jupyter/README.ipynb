{
 "cells": [
  {
   "cell_type": "code",
   "execution_count": 1,
   "id": "intense-breeding",
   "metadata": {},
   "outputs": [],
   "source": [
    "from python_pachyderm import Client\n",
    "import pandas as pd"
   ]
  },
  {
   "cell_type": "code",
   "execution_count": 2,
   "id": "regulation-optics",
   "metadata": {},
   "outputs": [
    {
     "name": "stdout",
     "output_type": "stream",
     "text": [
      "pipeline_info {\n",
      "  pipeline {\n",
      "    name: \"notebook\"\n",
      "  }\n",
      "  transform {\n",
      "    image: \"pachyderm-notebook:3\"\n",
      "    cmd: \"start-notebook.sh\"\n",
      "  }\n",
      "  created_at {\n",
      "    seconds: 1612143713\n",
      "    nanos: 956512113\n",
      "  }\n",
      "  state: PIPELINE_RUNNING\n",
      "  version: 2\n",
      "  output_branch: \"master\"\n",
      "  description: \"A spout pipeline that runs a notebook service.\"\n",
      "  cache_size: \"64M\"\n",
      "  salt: \"c0b512ab090a4988b82b4ec02bea3b8a\"\n",
      "  max_queue_size: 1\n",
      "  spec_commit {\n",
      "    repo {\n",
      "      name: \"__spec__\"\n",
      "    }\n",
      "    id: \"5c188bbfcba942ba8e3b184396153fbd\"\n",
      "  }\n",
      "  datum_tries: 3\n",
      "  spout {\n",
      "    service {\n",
      "      internal_port: 8888\n",
      "      external_port: 30888\n",
      "      type: \"NodePort\"\n",
      "    }\n",
      "  }\n",
      "}\n",
      "\n"
     ]
    }
   ],
   "source": [
    "client = Client.new_from_config()\n",
    "pipelines = client.list_pipeline()\n",
    "print(pipelines)"
   ]
  },
  {
   "cell_type": "code",
   "execution_count": 3,
   "id": "primary-sally",
   "metadata": {},
   "outputs": [
    {
     "data": {
      "text/plain": [
       "client.pps.pps_pb2.PipelineInfos"
      ]
     },
     "execution_count": 3,
     "metadata": {},
     "output_type": "execute_result"
    }
   ],
   "source": [
    "type(pipelines)"
   ]
  },
  {
   "cell_type": "code",
   "execution_count": null,
   "id": "flying-agency",
   "metadata": {},
   "outputs": [],
   "source": []
  }
 ],
 "metadata": {
  "kernelspec": {
   "display_name": "Python 3",
   "language": "python",
   "name": "python3"
  },
  "language_info": {
   "codemirror_mode": {
    "name": "ipython",
    "version": 3
   },
   "file_extension": ".py",
   "mimetype": "text/x-python",
   "name": "python",
   "nbconvert_exporter": "python",
   "pygments_lexer": "ipython3",
   "version": "3.8.6"
  }
 },
 "nbformat": 4,
 "nbformat_minor": 5
}
